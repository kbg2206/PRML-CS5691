{
 "cells": [
  {
   "cell_type": "markdown",
   "metadata": {
    "id": "342ziGnewCr7"
   },
   "source": [
    "# General Instructions to students:\n",
    "\n",
    "1. There are 4 types of cells in this notebook. The cell type will be indicated within the cell.\n",
    "    1. Markdown cells with problem written in it. (DO NOT TOUCH THESE CELLS) (**Cell type: TextRead**)\n",
    "    2. Python cells with setup code for further evaluations. (DO NOT TOUCH THESE CELLS) (**Cell type: CodeRead**)\n",
    "    3. Python code cells with some template code or empty cell. (FILL CODE IN THESE CELLS BASED ON INSTRUCTIONS IN CURRENT AND PREVIOUS CELLS) (**Cell type: CodeWrite**)\n",
    "    4. Markdown cells where a written reasoning or conclusion is expected. (WRITE SENTENCES IN THESE CELLS) (**Cell type: TextWrite**)\n",
    "    \n",
    "2. You are not allowed to insert new cells in the submitted notebook.\n",
    "\n",
    "3. You are not allowed to import any extra packages, unless needed.\n",
    "\n",
    "4. The code is to be written in Python 3.x syntax. Latest versions of other packages maybe assumed.\n",
    "\n",
    "5. In CodeWrite Cells, the only outputs to be given are plots asked in the question. Nothing else to be output/printed.\n",
    "\n",
    "6. If TextWrite cells ask you to give accuracy/error/other numbers, you can print them on the code cells, but remove the print statements before submitting.\n",
    "\n",
    "7. Any runtime failures on the submitted notebook will get zero marks.\n",
    "\n",
    "8. All code must be written by you. Copying from other students/material on the web is strictly prohibited. Any violations will result in zero marks.\n",
    "\n",
    "10. All plots must be labelled properly, the labels/legends should be readable, all tables must have rows and columns named properly.\n",
    "\n",
    "11. Change the name of file with your roll no. For example cs15d203.ipynb (for notebook) and cs15d203.py (for plain python script)\n",
    "\n",
    "\n",
    "\n"
   ]
  },
  {
   "cell_type": "code",
   "execution_count": null,
   "metadata": {
    "id": "We3kiiDJ8eV2"
   },
   "outputs": [],
   "source": [
    "# Cell type : CodeRead\n",
    "\n",
    "import numpy as np\n",
    "import pandas as pd\n",
    "import matplotlib.pyplot as plt"
   ]
  },
  {
   "cell_type": "markdown",
   "metadata": {
    "id": "g0s0y4Y8wbTC"
   },
   "source": [
    "\n",
    "**Cell type : TextRead**\n",
    "\n",
    "4b) Write a code to do polynomial regression with quadratic regularization that takes degree d and regularization parameter λ as input.\n",
    "\n",
    "You could refer to the linear regression code discussed in [Tutorial 8](https://colab.research.google.com/drive/1kQd5F0dDFFRnyduG5uB7UWHtyFQJjMHq?usp=sharing#scrollTo=dqri9wcqb-k7)."
   ]
  },
  {
   "cell_type": "code",
   "execution_count": null,
   "metadata": {
    "id": "9hTbuarfwjmz"
   },
   "outputs": [],
   "source": [
    "# Cell type : CodeWrite\n",
    "# write the function for Polynomial regression with quadratic regularization here.\n",
    "\n",
    "Data=pd.read_csv(\"bayes_variance_data.csv\")\n",
    "x = Data.iloc[:, :-1].values\n",
    "y = Data.iloc[:, -1].values\n",
    "def designMatrix(data,degree):\n",
    "    \n",
    "    matrix=np.zeros((len(data),degree+1))\n",
    "    for i in range(degree+1):\n",
    "        matrix[:,i]=data[:,0]**i\n",
    "        \n",
    "    return matrix\n",
    "        \n",
    "\n",
    "def polyregression(x,y,lambda_l,degree):\n",
    "    \n",
    "    \n",
    "    basis_function=designMatrix(x,degree)\n",
    "    I = np.identity(degree+1)\n",
    "    weights = np.linalg.inv(basis_function.T @ basis_function + lambda_l*I) @ basis_function.T @ y\n",
    "    \n",
    "    return weights\n",
    "    \n",
    "    \n",
    "    \n",
    "polyregression(x,y,0.1,24)\n",
    "\n",
    "\n"
   ]
  },
  {
   "cell_type": "markdown",
   "metadata": {
    "id": "naAevDZ1I1tH"
   },
   "source": [
    "4c) Run the code for degree $d=24$ and each $\\lambda$ in the set:\n",
    "\\[\\{10^{-15}, 10^{-9}, 10^{-6}, 10^{-3}, 10^{-2}, 10^{-1}, 1, 10^{1}, 10^{2}, 10^{3}, 10^{6}, 10^{9}, 10^{15}\\}\\]\n",
    "\n",
    "  i) Perform 5-fold cross-validation on the 100 data points (20 datapoints in each fold). For each fold, compute both training and validation errors using the mean squared error loss function. \\\\\n",
    "  ii) Calculate the average training and validation errors across the 5 folds."
   ]
  },
  {
   "cell_type": "code",
   "execution_count": null,
   "metadata": {
    "id": "1cyX-ba6I3xM"
   },
   "outputs": [],
   "source": [
    "def Min_Square_Error(y_new,y_old):\n",
    "    total=0\n",
    "    for i in range(len(y_new)):\n",
    "        total+=(y_new[i]-y_old[i])**2\n",
    "    return total/len(y_new)\n",
    "\n",
    "def KFold_Poly(Data,lambda_l):\n",
    "    \n",
    "    x = Data.iloc[:, :-1].values\n",
    "    y = Data.iloc[:, -1].values\n",
    "    \n",
    "   \n",
    "    Training_score = []\n",
    "    Validation_score = []\n",
    "    degree=24\n",
    "    fold_size=20\n",
    "    \n",
    "    for i in range(5):\n",
    "        test_start = i * fold_size\n",
    "        test_end = (i + 1) * fold_size\n",
    "        x_test_set = x[test_start:test_end]\n",
    "        y_test_set = y[test_start:test_end]\n",
    "        \n",
    "        if i == 0:\n",
    "            x_train_set = x[test_end:]\n",
    "            y_train_set = y[test_end:]\n",
    "            \n",
    "        elif i == 4:\n",
    "            x_train_set = x[:test_start]\n",
    "            y_train_set = y[:test_start]\n",
    "        else:\n",
    "            x_train_set = np.concatenate((x[:test_start], x[test_end:]))\n",
    "            y_train_set = np.concatenate((y[:test_start], y[test_end:]))\n",
    "            \n",
    "        weights=polyregression(x_train_set,y_train_set,lambda_l,degree)\n",
    "        \n",
    "        #print(type(x_train_set))\n",
    "        x_train_set=designMatrix(x_train_set,degree)\n",
    "        x_test_set=designMatrix(x_test_set,degree)\n",
    "             \n",
    "        y_pred_training=np.dot(x_train_set,weights)\n",
    "        y_pred_validation=np.dot(x_test_set,weights)\n",
    "       \n",
    "        training_mse=Min_Square_Error(y_pred_training,y_train_set)\n",
    "        validation_mse=Min_Square_Error(y_pred_validation,y_test_set)\n",
    "       \n",
    "    \n",
    "        \n",
    "        Training_score.append(training_mse)  \n",
    "        Validation_score.append(validation_mse)\n",
    "            \n",
    "            \n",
    "            \n",
    "    \n",
    "    return Training_score, Validation_score\n",
    "\n",
    "KFold_Poly(Data,0.1)"
   ]
  },
  {
   "cell_type": "markdown",
   "metadata": {
    "id": "u_P8cXAFwsol"
   },
   "source": [
    "4d)  Construct a learning curve by plotting the average training and validation errors against the model complexity ($\\log_{10} \\lambda$). Based on this learning curve, identify the (i) model with the highest bias, (ii) model with the highest variance?, and (iii) the model that will work best on some unseen data."
   ]
  },
  {
   "cell_type": "code",
   "execution_count": null,
   "metadata": {
    "id": "v8QIbVLkw3Pz"
   },
   "outputs": [],
   "source": [
    "\n",
    "\n",
    "def plot_learning_curve(lambda_values, avg_training_errors, avg_validation_errors):\n",
    "    plt.figure(figsize=(10, 6))\n",
    "    plt.plot(np.log10(lambda_values), avg_training_errors,color='Black', marker='o', label='Training Error')\n",
    "    plt.plot(np.log10(lambda_values), avg_validation_errors,color='Red', marker='^', label='Validation Error')\n",
    "    \n",
    "    \n",
    "    min_val_error = min(avg_validation_errors)\n",
    "    min_val_lambda = lambda_values[avg_validation_errors.index(min_val_error)]\n",
    "    plt.axvline(np.log10(min_val_lambda), color='Orange', linestyle='--', label='Best Model')\n",
    "    \n",
    "    High_bias_point=max(lambda_values)\n",
    "    plt.axvline(np.log10(High_bias_point), color='Green', linestyle='--', label='High Bias')\n",
    "    \n",
    "    High_Variance_point=min(lambda_values)\n",
    "    plt.axvline(np.log10(High_Variance_point), color='Blue', linestyle='--', label='High Variance')\n",
    "    \n",
    "    \n",
    "    \n",
    "    \n",
    "    plt.xlabel('log(\\lambda)')\n",
    "    plt.ylabel('Average Mean Squared Error')\n",
    "    plt.title('Learning Curve')\n",
    "    plt.legend()\n",
    "    plt.grid(True)\n",
    "    plt.show()\n",
    "\n",
    "lambda_values = [10**(-15), 10**(-9), 10**(-6), 10**(-3), 10**(-2), 10**(-1), 1, 10, 100, 1000, 10**6, 10**9, 10**15]\n",
    "avg_training_errors = []\n",
    "avg_validation_errors = []\n",
    "\n",
    "for i in lambda_values:\n",
    "    Training_scores, Validation_scores = KFold_Poly(Data, i)\n",
    "    avg_training_errors.append(sum(Training_scores)/5)\n",
    "    avg_validation_errors.append(sum(Validation_scores)/5)\n",
    "    print(f\" Lambda : {i} , Avg Training_Score : {sum(Training_scores)/5}, Avg Validation_Score : {sum(Validation_scores)/5}\")\n",
    "plot_learning_curve(lambda_values, avg_training_errors, avg_validation_errors)\n"
   ]
  },
  {
   "cell_type": "markdown",
   "metadata": {
    "id": "NDps37Xi2hki"
   },
   "source": [
    "4e) Plot the fitted curve to the given data ($\\hat{y}$ against $x$) for the three models reported in part (e)."
   ]
  },
  {
   "cell_type": "code",
   "execution_count": null,
   "metadata": {
    "id": "xmTPHahe2qc6"
   },
   "outputs": [],
   "source": [
    "\n",
    "fig, axes = plt.subplots(1, 3, figsize=(18, 6))\n",
    "\n",
    "def plot_curve(ax,x,y,weight,title):\n",
    "    \n",
    "    matrix=designMatrix(x,24)\n",
    "    \n",
    "    \n",
    "    y_pred=np.dot(matrix,weight)\n",
    "    ax.scatter(x,y_pred,label='Fitted Curve', color='red')\n",
    "    ax.scatter(x,y,label='Data')\n",
    "    \n",
    "    \n",
    "    ax.set_title(title)\n",
    "    ax.set_xlabel('x')\n",
    "    ax.set_ylabel('y')\n",
    "    ax.set_title(title)\n",
    "    ax.grid(True)\n",
    "\n",
    "lambda_values = [10**(15), 10**(-15), 10**(-6)]\n",
    "weights = []\n",
    "for i in lambda_values:\n",
    "    weights.append(polyregression(x,y, i, 24))\n",
    "    \n",
    "plot_curve(axes[0],x,y,weights[0],\"High Bias Model (λ = 10**15)\")\n",
    "plot_curve(axes[1],x,y,weights[1],\"High Variance Model (λ = 10**(-15))\")\n",
    "plot_curve(axes[2],x,y,weights[2],\"Best Model(λ = 10**(-6))\")\n",
    "    \n"
   ]
  },
  {
   "cell_type": "code",
   "execution_count": null,
   "metadata": {},
   "outputs": [],
   "source": []
  }
 ],
 "metadata": {
  "colab": {
   "provenance": []
  },
  "kernelspec": {
   "display_name": "Python 3 (ipykernel)",
   "language": "python",
   "name": "python3"
  },
  "language_info": {
   "codemirror_mode": {
    "name": "ipython",
    "version": 3
   },
   "file_extension": ".py",
   "mimetype": "text/x-python",
   "name": "python",
   "nbconvert_exporter": "python",
   "pygments_lexer": "ipython3",
   "version": "3.11.2"
  }
 },
 "nbformat": 4,
 "nbformat_minor": 1
}
